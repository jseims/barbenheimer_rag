{
 "cells": [
  {
   "cell_type": "markdown",
   "metadata": {},
   "source": [
    "# Questioning Barbie and Oppenheimer Through the Use of Agents\n",
    "\n",
    "In the following notebook we will build an application that queries both the Barbie and Oppenheimer movies Wikipedia pages, as well as their reviews. \n",
    "\n",
    "The main focus of this notebook is to showcase a brief introduction to Agents.\n",
    "\n",
    "## Build 🏗️\n",
    "\n",
    "There are 3 main tasks in this notebook:\n",
    "\n",
    "1. Contruct a Barbie retriever\n",
    "2. Construct an Oppenheimer retriever\n",
    "3. Combine the two and allow users to query both resources from a single input through the use of Agents\n",
    "\n",
    "## Ship 🚢\n",
    "\n",
    "Based on Tuesday's session - construct a Chainlit (or Gradio) application that allows users to interface with the application.\n",
    "\n",
    "## Share 🚀\n",
    "\n",
    "Make a social media post about your final application."
   ]
  },
  {
   "cell_type": "markdown",
   "metadata": {},
   "source": [
    "### Dependencies\n",
    "\n",
    "As always, let's start with some dependencies!"
   ]
  },
  {
   "cell_type": "code",
   "execution_count": 1,
   "metadata": {},
   "outputs": [],
   "source": [
    "!pip install -q -U langchain openai"
   ]
  },
  {
   "cell_type": "code",
   "execution_count": 2,
   "metadata": {},
   "outputs": [],
   "source": [
    "import getpass\n",
    "import os\n",
    "openai_api_key = getpass.getpass(\"Enter your OpenAI API Key: \")\n",
    "os.environ[\"OPENAI_API_KEY\"] = openai_api_key\n"
   ]
  },
  {
   "cell_type": "markdown",
   "metadata": {},
   "source": [
    "### LLM \n",
    "\n",
    "We will be leveraging OpenAI's `gpt-3.5-turbo` throughout the notebook, and we can keep it consistent throughout!"
   ]
  },
  {
   "cell_type": "code",
   "execution_count": 3,
   "metadata": {},
   "outputs": [
    {
     "name": "stderr",
     "output_type": "stream",
     "text": [
      "/Users/jseims/Library/Python/3.9/lib/python/site-packages/urllib3/__init__.py:34: NotOpenSSLWarning: urllib3 v2.0 only supports OpenSSL 1.1.1+, currently the 'ssl' module is compiled with 'LibreSSL 2.8.3'. See: https://github.com/urllib3/urllib3/issues/3020\n",
      "  warnings.warn(\n"
     ]
    }
   ],
   "source": [
    "from langchain.chat_models import ChatOpenAI\n",
    "llm = ChatOpenAI(model=\"gpt-3.5-turbo\", temperature = 0)"
   ]
  },
  {
   "cell_type": "markdown",
   "metadata": {},
   "source": [
    "### Data Collection and Transformation\n",
    "\n",
    "We'll be leveraging the `WikipediaLoader` tool to collect information from Wikipedia. \n",
    "\n",
    "Be sure to set the `doc_content_chars_max` parameter so that you capture the *entire* Wikipedia article content."
   ]
  },
  {
   "cell_type": "code",
   "execution_count": 4,
   "metadata": {},
   "outputs": [],
   "source": [
    "!pip install -q -U wikipedia"
   ]
  },
  {
   "cell_type": "code",
   "execution_count": 5,
   "metadata": {},
   "outputs": [],
   "source": [
    "from langchain.document_loaders import WikipediaLoader, CSVLoader\n",
    "\n",
    "# Don't know if there's a better way to do this, but I copy and pasted the web page into a text file and \"wc\"ed it to see it's 117839 characters, so let's do 150000 max chars\n",
    "barbie_wikipedia_docs = WikipediaLoader(\n",
    "    query=\"Barbie (film)\", \n",
    "    load_max_docs= 1, \n",
    "    doc_content_chars_max=150000\n",
    "    ).load()\n",
    "\n",
    "barbie_csv_docs = CSVLoader(\n",
    "    file_path=\"barbie_data/barbie.csv\", \n",
    "    source_column=\"Review_Url\"\n",
    "    ).load()"
   ]
  },
  {
   "cell_type": "markdown",
   "metadata": {},
   "source": [
    "Since we'll be using same format source documentation separated by topic, we can save ourselves some extra effort and set up our splitters once. \n",
    "\n",
    "We're going to leverage the `RecursiveCharacterTextSplitter` again, this time paying close attention to the format our Wikipedia articles and reviews are in so we can be sure to chunk them appropritately. \n",
    "\n",
    "> HINT: You can pass a list of separators when you intialize your `RecursiveTextSplitter`! They are acted on in order of element 0 -> element len(list).\n",
    "\n",
    "RELEVANT DOCS:\n",
    "- [`RecursiveCharacterTextSplitter`](https://api.python.langchain.com/en/latest/text_splitter/langchain.text_splitter.RecursiveCharacterTextSplitter.html#langchain.text_splitter.RecursiveCharacterTextSplitter)"
   ]
  },
  {
   "cell_type": "code",
   "execution_count": 6,
   "metadata": {},
   "outputs": [],
   "source": [
    "from langchain.text_splitter import RecursiveCharacterTextSplitter\n",
    "\n",
    "wikipedia_text_splitter = RecursiveCharacterTextSplitter(\n",
    "    chunk_size = 1000,\n",
    "    chunk_overlap = 100,\n",
    "    length_function = len,\n",
    "    is_separator_regex= False,\n",
    "    separators = [\"\\n\\n\", \"\\n\",  \".\"]   ### YOUR CODE HERE # keep headings, then paragraphs, then sentences\n",
    ")\n",
    "\n",
    "csv_text_splitter = RecursiveCharacterTextSplitter(\n",
    "    chunk_size = 1000,\n",
    "    chunk_overlap = 100,\n",
    "    length_function = len,\n",
    "    is_separator_regex= False,\n",
    "    separators = [\"\\n\",  \".\"]   ### YOUR CODE HERE # keep paragraphs, then sentences\n",
    ")\n",
    "\n",
    "# removing because I don't use these variables\n",
    "#chunked_barbie_wikipedia_docs = \"barbie_wiki.txt\"\n",
    "#chunked_barbie_csv_docs = \"barbie_csv.txt\""
   ]
  },
  {
   "cell_type": "markdown",
   "metadata": {},
   "source": [
    "#### Retrieval and Embedding Strategy\n",
    "\n",
    "We've already discussed the useful application of `CacheBackedEmbeddings`, so let's do it again!\n",
    "\n",
    "RELEVANT DOCS:\n",
    "- [`CacheBackedEmbeddings`](https://api.python.langchain.com/en/latest/embeddings/langchain.embeddings.cache.CacheBackedEmbeddings.html#langchain-embeddings-cache-cachebackedembeddings)"
   ]
  },
  {
   "cell_type": "code",
   "execution_count": 7,
   "metadata": {},
   "outputs": [],
   "source": [
    "!pip install -q -U rank_bm25 tiktoken faiss-cpu"
   ]
  },
  {
   "cell_type": "code",
   "execution_count": 9,
   "metadata": {},
   "outputs": [],
   "source": [
    "from langchain.retrievers import BM25Retriever, EnsembleRetriever\n",
    "from langchain.vectorstores import FAISS\n",
    "from langchain.embeddings.openai import OpenAIEmbeddings\n",
    "from langchain.embeddings import CacheBackedEmbeddings\n",
    "from langchain.storage import LocalFileStore\n",
    "\n",
    "# set up cached embeddings store\n",
    "store = LocalFileStore(\"./cache/\")\n",
    "\n",
    "core_embeddings_model = OpenAIEmbeddings()\n",
    "\n",
    "embedder = CacheBackedEmbeddings.from_bytes_store(\n",
    "    core_embeddings_model,\n",
    "    store,\n",
    "    namespace=core_embeddings_model.model\n",
    ")\n"
   ]
  },
  {
   "cell_type": "markdown",
   "metadata": {},
   "source": [
    "We'll implement a `FAISS` vectorstore, and create a retriever from it."
   ]
  },
  {
   "cell_type": "code",
   "execution_count": 89,
   "metadata": {},
   "outputs": [],
   "source": [
    "barbie_wikipedia_content = [d.page_content for d in barbie_wikipedia_docs]\n",
    "barbie_csv_content = [d.page_content for d in barbie_csv_docs]\n",
    "\n",
    "barbie_wikipedia_documents = wikipedia_text_splitter.create_documents(barbie_wikipedia_content)\n",
    "barbie_csv_documents = csv_text_splitter.create_documents(barbie_csv_content)\n",
    "\n",
    "vector_store = FAISS.from_documents(barbie_csv_documents, embedder)\n",
    "barbie_csv_faiss_retriever = vector_store.as_retriever()\n"
   ]
  },
  {
   "cell_type": "markdown",
   "metadata": {},
   "source": [
    "There are a number of excellent options to retrieve documents - we'll be looking at an additional example today, which is called the `EnsembleRetriever`.\n",
    "\n",
    "The method this is using is outlined in [this paper](https://plg.uwaterloo.ca/~gvcormac/cormacksigir09-rrf.pdf).\n",
    "\n",
    "The brief explanation is:\n",
    "\n",
    "1. We collect results from two different retrieval methods over the same corpus\n",
    "2. We apply a reranking algorithm to rerank our source documents to be the *most relevant* without losing specific or potentially low-ranked information rich documents\n",
    "3. We feed the top-k results into the LLM with our query as context.\n",
    "\n",
    "> HINT: Your weight list should be of type `List[float]` and the `sum(List[float])` should be `1`."
   ]
  },
  {
   "cell_type": "code",
   "execution_count": 90,
   "metadata": {},
   "outputs": [],
   "source": [
    "# set up BM25 retriever\n",
    "barbie_wikipedia_bm25_retriever = BM25Retriever.from_documents(\n",
    "    barbie_wikipedia_documents\n",
    ")\n",
    "barbie_wikipedia_bm25_retriever.k = 1\n",
    "\n",
    "# set up FAISS vector store\n",
    "#barbie_wikipedia_faiss_store = FAISS.from_documents(\n",
    "#    barbie_wikipedia_documents,\n",
    "#    core_embeddings_model\n",
    "#)\n",
    "#barbie_wikipedia_faiss_retriever = barbie_wikipedia_faiss_store.as_retriever(search_kwargs={\"k\": 1})\n",
    "\n",
    "# set up ensemble retriever\n",
    "barbie_ensemble_retriever = EnsembleRetriever(\n",
    "    retrievers=[barbie_csv_faiss_retriever, barbie_wikipedia_bm25_retriever],\n",
    "    weights= [0.25, 0.75]  # give more weight to wikipedia\n",
    ")"
   ]
  },
  {
   "cell_type": "markdown",
   "metadata": {},
   "source": [
    "#### Retrieval Agent\n",
    "\n",
    "We can create a simple conversational retrieval Agent by using the built-ins provided by LangChain!\n",
    "\n",
    "> HINT: Be sure to provide good natural language descriptions of what the tool should be used for to get the best results.\n",
    "\n",
    "RELEVANT DOCS:\n",
    "- [`create_retriever_tool`](https://api.python.langchain.com/en/latest/agents/langchain.agents.agent_toolkits.conversational_retrieval.tool.create_retriever_tool.html#langchain.agents.agent_toolkits.conversational_retrieval.tool.create_retriever_tool)"
   ]
  },
  {
   "cell_type": "code",
   "execution_count": 91,
   "metadata": {},
   "outputs": [],
   "source": [
    "from langchain.agents.agent_toolkits import create_retriever_tool\n",
    "\n",
    "barbie_wikipedia_retrieval_tool = create_retriever_tool(\n",
    "    barbie_wikipedia_bm25_retriever,\n",
    "    \"Barbie_Wikipedia_Retriever\",\n",
    "    \"Retrieves text about the Babie movie from Wikipedia\"\n",
    ")\n",
    "\n",
    "barbie_csv_retrieval_tool = create_retriever_tool(\n",
    "    barbie_csv_faiss_retriever,\n",
    "    \"Barbie_CSV_Retiever\",\n",
    "    \"Retrieves text about the Babie movie from a CSV file of user-generated reviews\"\n",
    ")\n",
    "\n",
    "barbie_retriever_tools = [barbie_wikipedia_retrieval_tool, barbie_csv_retrieval_tool]"
   ]
  },
  {
   "cell_type": "markdown",
   "metadata": {},
   "source": [
    "Now that we've created our tools, we can combined them into an agent!\n",
    "\n",
    "RELEVANT DOCS:\n",
    "- [`create_conversational_retrieval_agent`](https://api.python.langchain.com/en/latest/agents/langchain.agents.agent_toolkits.conversational_retrieval.openai_functions.create_conversational_retrieval_agent.html#langchain.agents.agent_toolkits.conversational_retrieval.openai_functions.create_conversational_retrieval_agent)"
   ]
  },
  {
   "cell_type": "code",
   "execution_count": 92,
   "metadata": {},
   "outputs": [],
   "source": [
    "from langchain.agents.agent_toolkits import create_conversational_retrieval_agent\n",
    "\n",
    "barbie_retriever_agent_executor = create_conversational_retrieval_agent(llm, barbie_retriever_tools, verbose=True)\n",
    "\n"
   ]
  },
  {
   "cell_type": "code",
   "execution_count": 93,
   "metadata": {},
   "outputs": [
    {
     "name": "stdout",
     "output_type": "stream",
     "text": [
      "\n",
      "\n",
      "\u001b[1m> Entering new AgentExecutor chain...\u001b[0m\n",
      "\u001b[32;1m\u001b[1;3m\n",
      "Invoking: `Barbie_CSV_Retiever` with `Barbie`\n",
      "\n",
      "\n",
      "\u001b[0m\u001b[33;1m\u001b[1;3m[Document(page_content=\": 122\\nReview_Date: 30 July 2023\\nAuthor: walfordior\\nRating: 9\\nReview_Title: This is more than just a 'lighthearted comedy'\\nReview: Barbie is no longer just a toy; rather, this idea of 'Barbie' has evolved into one of the most famous and significant topics in the world at this moment in time. It is so much more than merely a toy. It will not longer be just 'a toy'\\nReview_Url: /review/rw9199947/?ref_=tt_urv\", metadata={}), Document(page_content=': 64\\nReview_Date: 22 July 2023\\nAuthor: fernandoschiavi\\nRating: 5\\nReview_Title: \"Barbie\" is fun and visually beautiful, but unfortunately Barbie doll was dragged into the cultural war, used as a puppet by political militancy', metadata={}), Document(page_content=\": 39\\nReview_Date: 23 July 2023\\nAuthor: Anurag-Shetty\\nRating: 10\\nReview_Title: A wholesome delight!\\nReview: Barbie is based on Mattel's iconic plastic dolls of the same name. Barbie(Margot Robbie) lives a very happy life in Barbie Land, along with her fellow Barbies, Ken(Ryan Gosling) & his fellow Kens. Suddenly, Barbie goes through an existential crisis that makes her question Barbie Land & the truth of her existence.\\nReview_Url: /review/rw9199947/?ref_=tt_urv\", metadata={}), Document(page_content=\"Review: The big summer blockbuster of 2023 is a wonderful visual spectacle with a great deal of creative physical comedy, centered in and around the universe of Barbie, Mattel's historic toy doll. Unfortunately, the film tries to be and do much more than what the filmmakers ultimately are able to control and reel in. That a movie about Barbie would be guilty of Americanization is no surprise, and in many ways more than befitting, but the Americanization here isn't just about the history of the toy itself and all its cultural impacts - Barbie also views everything through the eyes of Hollywood anno 2023 - which arguably is a very particular and perhaps not that representative outlook\", metadata={})]\u001b[0m\u001b[32;1m\u001b[1;3mBased on the user-generated reviews, opinions about the Barbie movie are mixed. Some people enjoyed the movie and found it to be more than just a lighthearted comedy. They believe that Barbie has evolved into a significant topic in the world and is no longer just a toy. Others found the movie fun and visually beautiful but felt that Barbie was dragged into the cultural war and used as a puppet by political militancy.\n",
      "\n",
      "One review mentioned that Barbie goes through an existential crisis in the movie, which makes her question Barbie Land and the truth of her existence. This suggests that the movie explores philosophical themes and raises existential questions.\n",
      "\n",
      "Another review mentioned that the film tries to be and do much more than what the filmmakers are able to control and reel in. It suggests that the movie attempts to address the history and cultural impacts of Barbie, as well as view everything through the eyes of Hollywood in 2023. This could contribute to the perception of the movie being philosophical.\n",
      "\n",
      "Overall, it seems that the Barbie movie has elements that go beyond a typical lighthearted comedy and delves into deeper themes, which some viewers appreciate while others may find it overwhelming or disconnected.\u001b[0m\n",
      "\n",
      "\u001b[1m> Finished chain.\u001b[0m\n"
     ]
    },
    {
     "data": {
      "text/plain": [
       "{'input': 'Did people like Barbie, or did they find it too Philosphical? If they did, can you tell me why the movie is so Philosophical?',\n",
       " 'chat_history': [HumanMessage(content='Did people like Barbie, or did they find it too Philosphical? If they did, can you tell me why the movie is so Philosophical?', additional_kwargs={}, example=False),\n",
       "  AIMessage(content='', additional_kwargs={'function_call': {'name': 'Barbie_CSV_Retiever', 'arguments': '{\\n  \"__arg1\": \"Barbie\"\\n}'}}, example=False),\n",
       "  FunctionMessage(content='[Document(page_content=\": 122\\\\nReview_Date: 30 July 2023\\\\nAuthor: walfordior\\\\nRating: 9\\\\nReview_Title: This is more than just a \\'lighthearted comedy\\'\\\\nReview: Barbie is no longer just a toy; rather, this idea of \\'Barbie\\' has evolved into one of the most famous and significant topics in the world at this moment in time. It is so much more than merely a toy. It will not longer be just \\'a toy\\'\\\\nReview_Url: /review/rw9199947/?ref_=tt_urv\", metadata={}), Document(page_content=\\': 64\\\\nReview_Date: 22 July 2023\\\\nAuthor: fernandoschiavi\\\\nRating: 5\\\\nReview_Title: \"Barbie\" is fun and visually beautiful, but unfortunately Barbie doll was dragged into the cultural war, used as a puppet by political militancy\\', metadata={}), Document(page_content=\": 39\\\\nReview_Date: 23 July 2023\\\\nAuthor: Anurag-Shetty\\\\nRating: 10\\\\nReview_Title: A wholesome delight!\\\\nReview: Barbie is based on Mattel\\'s iconic plastic dolls of the same name. Barbie(Margot Robbie) lives a very happy life in Barbie Land, along with her fellow Barbies, Ken(Ryan Gosling) & his fellow Kens. Suddenly, Barbie goes through an existential crisis that makes her question Barbie Land & the truth of her existence.\\\\nReview_Url: /review/rw9199947/?ref_=tt_urv\", metadata={}), Document(page_content=\"Review: The big summer blockbuster of 2023 is a wonderful visual spectacle with a great deal of creative physical comedy, centered in and around the universe of Barbie, Mattel\\'s historic toy doll. Unfortunately, the film tries to be and do much more than what the filmmakers ultimately are able to control and reel in. That a movie about Barbie would be guilty of Americanization is no surprise, and in many ways more than befitting, but the Americanization here isn\\'t just about the history of the toy itself and all its cultural impacts - Barbie also views everything through the eyes of Hollywood anno 2023 - which arguably is a very particular and perhaps not that representative outlook\", metadata={})]', additional_kwargs={}, name='Barbie_CSV_Retiever'),\n",
       "  AIMessage(content='Based on the user-generated reviews, opinions about the Barbie movie are mixed. Some people enjoyed the movie and found it to be more than just a lighthearted comedy. They believe that Barbie has evolved into a significant topic in the world and is no longer just a toy. Others found the movie fun and visually beautiful but felt that Barbie was dragged into the cultural war and used as a puppet by political militancy.\\n\\nOne review mentioned that Barbie goes through an existential crisis in the movie, which makes her question Barbie Land and the truth of her existence. This suggests that the movie explores philosophical themes and raises existential questions.\\n\\nAnother review mentioned that the film tries to be and do much more than what the filmmakers are able to control and reel in. It suggests that the movie attempts to address the history and cultural impacts of Barbie, as well as view everything through the eyes of Hollywood in 2023. This could contribute to the perception of the movie being philosophical.\\n\\nOverall, it seems that the Barbie movie has elements that go beyond a typical lighthearted comedy and delves into deeper themes, which some viewers appreciate while others may find it overwhelming or disconnected.', additional_kwargs={}, example=False)],\n",
       " 'output': 'Based on the user-generated reviews, opinions about the Barbie movie are mixed. Some people enjoyed the movie and found it to be more than just a lighthearted comedy. They believe that Barbie has evolved into a significant topic in the world and is no longer just a toy. Others found the movie fun and visually beautiful but felt that Barbie was dragged into the cultural war and used as a puppet by political militancy.\\n\\nOne review mentioned that Barbie goes through an existential crisis in the movie, which makes her question Barbie Land and the truth of her existence. This suggests that the movie explores philosophical themes and raises existential questions.\\n\\nAnother review mentioned that the film tries to be and do much more than what the filmmakers are able to control and reel in. It suggests that the movie attempts to address the history and cultural impacts of Barbie, as well as view everything through the eyes of Hollywood in 2023. This could contribute to the perception of the movie being philosophical.\\n\\nOverall, it seems that the Barbie movie has elements that go beyond a typical lighthearted comedy and delves into deeper themes, which some viewers appreciate while others may find it overwhelming or disconnected.',\n",
       " 'intermediate_steps': [(_FunctionsAgentAction(tool='Barbie_CSV_Retiever', tool_input='Barbie', log='\\nInvoking: `Barbie_CSV_Retiever` with `Barbie`\\n\\n\\n', message_log=[AIMessage(content='', additional_kwargs={'function_call': {'name': 'Barbie_CSV_Retiever', 'arguments': '{\\n  \"__arg1\": \"Barbie\"\\n}'}}, example=False)]),\n",
       "   [Document(page_content=\": 122\\nReview_Date: 30 July 2023\\nAuthor: walfordior\\nRating: 9\\nReview_Title: This is more than just a 'lighthearted comedy'\\nReview: Barbie is no longer just a toy; rather, this idea of 'Barbie' has evolved into one of the most famous and significant topics in the world at this moment in time. It is so much more than merely a toy. It will not longer be just 'a toy'\\nReview_Url: /review/rw9199947/?ref_=tt_urv\", metadata={}),\n",
       "    Document(page_content=': 64\\nReview_Date: 22 July 2023\\nAuthor: fernandoschiavi\\nRating: 5\\nReview_Title: \"Barbie\" is fun and visually beautiful, but unfortunately Barbie doll was dragged into the cultural war, used as a puppet by political militancy', metadata={}),\n",
       "    Document(page_content=\": 39\\nReview_Date: 23 July 2023\\nAuthor: Anurag-Shetty\\nRating: 10\\nReview_Title: A wholesome delight!\\nReview: Barbie is based on Mattel's iconic plastic dolls of the same name. Barbie(Margot Robbie) lives a very happy life in Barbie Land, along with her fellow Barbies, Ken(Ryan Gosling) & his fellow Kens. Suddenly, Barbie goes through an existential crisis that makes her question Barbie Land & the truth of her existence.\\nReview_Url: /review/rw9199947/?ref_=tt_urv\", metadata={}),\n",
       "    Document(page_content=\"Review: The big summer blockbuster of 2023 is a wonderful visual spectacle with a great deal of creative physical comedy, centered in and around the universe of Barbie, Mattel's historic toy doll. Unfortunately, the film tries to be and do much more than what the filmmakers ultimately are able to control and reel in. That a movie about Barbie would be guilty of Americanization is no surprise, and in many ways more than befitting, but the Americanization here isn't just about the history of the toy itself and all its cultural impacts - Barbie also views everything through the eyes of Hollywood anno 2023 - which arguably is a very particular and perhaps not that representative outlook\", metadata={})])]}"
      ]
     },
     "execution_count": 93,
     "metadata": {},
     "output_type": "execute_result"
    }
   ],
   "source": [
    "barbie_retriever_agent_executor({\"input\" : \"Did people like Barbie, or did they find it too Philosphical? If they did, can you tell me why the movie is so Philosophical?\"})"
   ]
  },
  {
   "cell_type": "code",
   "execution_count": 86,
   "metadata": {},
   "outputs": [
    {
     "name": "stdout",
     "output_type": "stream",
     "text": [
      "\n",
      "\n",
      "\u001b[1m> Entering new AgentExecutor chain...\u001b[0m\n",
      "\u001b[32;1m\u001b[1;3mThe Barbie movie follows the journey of Barbie, who lives in Barbieland, a matriarchal society of dolls. When Barbie faces an existential crisis and realizes the impact of unrealistic beauty standards, she embarks on a journey of self-discovery. Along the way, she forms friendships, challenges societal norms, and confronts the expectations placed on her. The movie explores themes of identity, self-acceptance, and the importance of female empowerment.\u001b[0m\n",
      "\n",
      "\u001b[1m> Finished chain.\u001b[0m\n"
     ]
    },
    {
     "data": {
      "text/plain": [
       "{'input': 'What is a very quick summary of the plot of the Barbie movie?',\n",
       " 'chat_history': [HumanMessage(content='Did people like Barbie, or did they find it too Philosphical? If they did, can you tell me why the movie is so Philosophical?', additional_kwargs={}, example=False),\n",
       "  AIMessage(content='', additional_kwargs={'function_call': {'name': 'Barbie_CSV_Retiever', 'arguments': '{\\n  \"__arg1\": \"Barbie\"\\n}'}}, example=False),\n",
       "  FunctionMessage(content='[Document(page_content=\\'== Plot ==\\\\nStereotypical Barbie (\"Barbie\") and fellow dolls reside in Barbieland; a matriarchal society with different variations of Barbies, Kens, and a group of discontinued models, who are treated like outcasts due to their unconventional traits. While the Kens spend their days playing at the beach, considering it as their profession, the Barbies hold prestigious jobs such as doctors, lawyers, and politicians. Beach Ken (\"Ken\") is only happy when he is with Barbie and seeks a closer relationship, but Barbie rebuffs him in favor of other activities and female friendships.\\', metadata={}), Document(page_content=\"Arriving at Venice Beach, Barbie punches a man for groping her, leading to her and Ken\\'s brief arrest. Alarmed by their presence, Mattel\\'s CEO orders their recapture. Barbie tracks down her owner, a tween girl named Sasha, who criticizes her for encouraging unrealistic beauty standards. Distraught, Barbie discovers that Gloria, a Mattel employee and Sasha\\'s mother, inadvertently catalyzed her existential crisis after Gloria began playing with Sasha\\'s old Barbie toys in a similar state. Mattel attempts to put Barbie in a toy box for remanufacturing, but she escapes with Gloria and Sasha\\'s help and the three travel to Barbieland with Mattel executives in pursuit.\", metadata={}), Document(page_content=\\'At a dance party, Barbie is suddenly stricken with worries about mortality. Overnight, she develops bad breath, cellulite, and flat feet, disrupting her usual routines the next day. Weird Barbie, an outcast due to her disfigurement, tells her she must find the child playing with her in the real world to cure her afflictions. Ken stows away in her convertible hoping to join her on the journey, to which Barbie reluctantly agrees.\\', metadata={}), Document(page_content=\\'Barbie is a 2023 American fantasy comedy film directed by Greta Gerwig from a screenplay she wrote with Noah Baumbach. Based on the Barbie fashion dolls by Mattel, it is the first live-action Barbie film after numerous computer-animated films and specials. The film follows Barbie (Margot Robbie) and Ken (Ryan Gosling) on a journey of self-discovery following an existential crisis. It features an ensemble supporting cast, including America Ferrera, Kate McKinnon, Helen Mirren, Issa Rae, Simu Liu, Michael Cera, Rhea Perlman, and Will Ferrell.\\', metadata={})]', additional_kwargs={}, name='Barbie_CSV_Retiever'),\n",
       "  AIMessage(content='', additional_kwargs={'function_call': {'name': 'Barbie_Wikipedia_Retriever', 'arguments': '{\\n  \"__arg1\": \"Barbie\"\\n}'}}, example=False),\n",
       "  FunctionMessage(content='[Document(page_content=\"Arriving at Venice Beach, Barbie punches a man for groping her, leading to her and Ken\\'s brief arrest. Alarmed by their presence, Mattel\\'s CEO orders their recapture. Barbie tracks down her owner, a tween girl named Sasha, who criticizes her for encouraging unrealistic beauty standards. Distraught, Barbie discovers that Gloria, a Mattel employee and Sasha\\'s mother, inadvertently catalyzed her existential crisis after Gloria began playing with Sasha\\'s old Barbie toys in a similar state. Mattel attempts to put Barbie in a toy box for remanufacturing, but she escapes with Gloria and Sasha\\'s help and the three travel to Barbieland with Mattel executives in pursuit.\", metadata={})]', additional_kwargs={}, name='Barbie_Wikipedia_Retriever'),\n",
       "  AIMessage(content='Based on the user-generated reviews and the plot description, it seems that some people found the Barbie movie to be philosophical. The movie explores themes of self-discovery, existential crisis, and societal expectations. Barbie, the main character, goes through an existential crisis after realizing the impact of her unrealistic beauty standards on young girls. She embarks on a journey of self-discovery and challenges societal norms. The movie also touches on the concept of identity and the importance of female friendships. Overall, the philosophical elements in the Barbie movie seem to have resonated with some viewers.', additional_kwargs={}, example=False),\n",
       "  HumanMessage(content='What is a very quick summary of the plot of the Barbie movie?', additional_kwargs={}, example=False),\n",
       "  AIMessage(content='The Barbie movie follows the journey of Barbie, who lives in Barbieland, a matriarchal society of dolls. When Barbie faces an existential crisis and realizes the impact of unrealistic beauty standards, she embarks on a journey of self-discovery. Along the way, she forms friendships, challenges societal norms, and confronts the expectations placed on her. The movie explores themes of identity, self-acceptance, and the importance of female empowerment.', additional_kwargs={}, example=False)],\n",
       " 'output': 'The Barbie movie follows the journey of Barbie, who lives in Barbieland, a matriarchal society of dolls. When Barbie faces an existential crisis and realizes the impact of unrealistic beauty standards, she embarks on a journey of self-discovery. Along the way, she forms friendships, challenges societal norms, and confronts the expectations placed on her. The movie explores themes of identity, self-acceptance, and the importance of female empowerment.',\n",
       " 'intermediate_steps': []}"
      ]
     },
     "execution_count": 86,
     "metadata": {},
     "output_type": "execute_result"
    }
   ],
   "source": [
    "barbie_retriever_agent_executor({\"input\" : \"What is a very quick summary of the plot of the Barbie movie?\"})"
   ]
  },
  {
   "cell_type": "markdown",
   "metadata": {},
   "source": [
    "### Oppenheimer Retrieval System\n",
    "\n",
    "We're going to repourpose some of what we created previously, but this time we'll explore a different multi-source retrieval system."
   ]
  },
  {
   "cell_type": "code",
   "execution_count": 87,
   "metadata": {},
   "outputs": [],
   "source": [
    "# Don't know if there's a better way to do this, but I copy and pasted the web page into a text file and \"wc\"ed it to see it's 82359 characters, so let's do 100000 max chars\n",
    "oppenheimer_wikipedia_docs = WikipediaLoader(\n",
    "    query=\"Oppenheimer (film)\", \n",
    "    load_max_docs= 1, \n",
    "    doc_content_chars_max=100000\n",
    "    ).load()\n",
    "\n",
    "oppenheimer_csv_docs = CSVLoader(\n",
    "    file_path=\"oppenheimer_data/oppenheimer.csv\", \n",
    "    source_column=\"Review_Url\"\n",
    "    ).load()"
   ]
  },
  {
   "cell_type": "code",
   "execution_count": 88,
   "metadata": {},
   "outputs": [],
   "source": [
    "oppenheimer_wikipedia_content = [d.page_content for d in oppenheimer_wikipedia_docs]\n",
    "oppenheimer_csv_content = [d.page_content for d in oppenheimer_csv_docs]\n",
    "\n",
    "chunked_opp_wikipedia_docs = wikipedia_text_splitter.create_documents(oppenheimer_wikipedia_content)\n",
    "chunked_opp_csv_docs = csv_text_splitter.create_documents(oppenheimer_csv_content)"
   ]
  },
  {
   "cell_type": "code",
   "execution_count": 96,
   "metadata": {},
   "outputs": [],
   "source": [
    "vector_store = FAISS.from_documents(chunked_opp_csv_docs, embedder)\n",
    "opp_csv_faiss_retriever = vector_store.as_retriever()\n",
    "\n",
    "# set up BM25 retriever -- where does this get used?\n",
    "opp_wikipedia_bm25_retriever = BM25Retriever.from_documents(\n",
    "    chunked_opp_wikipedia_docs\n",
    ")\n",
    "opp_wikipedia_bm25_retriever.k = 1\n",
    "\n",
    "# set up FAISS vector store\n",
    "opp_wikipedia_faiss_store = FAISS.from_documents(\n",
    "    chunked_opp_wikipedia_docs,\n",
    "    embedder\n",
    ")\n",
    "opp_wikipedia_faiss_retriever = opp_wikipedia_faiss_store.as_retriever(search_kwargs={\"k\": 1})\n",
    "\n",
    "# set up ensemble retriever\n",
    "opp_ensemble_retriever = EnsembleRetriever(\n",
    "    retrievers=[opp_csv_faiss_retriever, opp_wikipedia_bm25_retriever],\n",
    "    weights= [0.25, 0.75]  # give more weight to wikipedia\n",
    ")"
   ]
  },
  {
   "cell_type": "markdown",
   "metadata": {},
   "source": [
    "#### Multi-source chain\n",
    "\n",
    "We're going to allow the LLM to decide which information is most -> least valuable.\n",
    "\n",
    "The way we'll do this is with LangChain's rather powerful \"Expression Language\"!\n",
    "\n",
    "> HINT: You can leverage [this](https://python.langchain.com/docs/use_cases/question_answering/how_to/multiple_retrieval) resource if you get stuck - but experiment with different prompts/formats."
   ]
  },
  {
   "cell_type": "code",
   "execution_count": 97,
   "metadata": {},
   "outputs": [],
   "source": [
    "from langchain.prompts import ChatPromptTemplate\n",
    "\n",
    "system_message = \"\"\"Use the information from the below two sources to answer any questions.\n",
    "\n",
    "Source 1: public user reviews about the Oppenheimer movie\n",
    "<source1>\n",
    "{source1}\n",
    "</source1>\n",
    "\n",
    "Source 2: the wikipedia page for the Oppenheimer movie including the plot summary, cast, and production information\n",
    "<source2>\n",
    "{source2}\n",
    "</source2>\n",
    "\"\"\"\n",
    "\n",
    "prompt = ChatPromptTemplate.from_messages([(\"system\", system_message), (\"human\", \"{question}\")])"
   ]
  },
  {
   "cell_type": "code",
   "execution_count": 98,
   "metadata": {},
   "outputs": [],
   "source": [
    "# Is this a bug?  Shouldn't source1 be opp_csv_faiss_retriever and source2 be opp_wikipedia_faiss_retriever?\n",
    "\n",
    "oppenheimer_multisource_chain = {\n",
    "    \"source1\": (lambda x: x[\"question\"]) | opp_csv_faiss_retriever,\n",
    "    \"source2\": (lambda x: x[\"question\"]) | opp_wikipedia_faiss_retriever,\n",
    "    \"question\": lambda x: x[\"question\"],\n",
    "} | prompt | llm\n",
    "\n",
    "\n",
    "# now do the same for Barbie\n",
    "system_message = \"\"\"Use the information from the below two sources to answer any questions.\n",
    "\n",
    "Source 1: public user reviews about the Barbie movie\n",
    "<source1>\n",
    "{source1}\n",
    "</source1>\n",
    "\n",
    "Source 2: the wikipedia page for the Barbie movie including the plot summary, cast, and production information\n",
    "<source2>\n",
    "{source2}\n",
    "</source2>\n",
    "\"\"\"\n",
    "\n",
    "prompt = ChatPromptTemplate.from_messages([(\"system\", system_message), (\"human\", \"{question}\")])\n",
    "\n",
    "barbie_multisource_chain = {\n",
    "    \"source1\": (lambda x: x[\"question\"]) | barbie_csv_faiss_retriever,\n",
    "    \"source2\": (lambda x: x[\"question\"]) | barbie_wikipedia_faiss_retriever,\n",
    "    \"question\": lambda x: x[\"question\"],\n",
    "} | prompt | llm\n"
   ]
  },
  {
   "cell_type": "code",
   "execution_count": 99,
   "metadata": {},
   "outputs": [
    {
     "data": {
      "text/plain": [
       "AIMessage(content='Based on the public user reviews and critical reception, opinions about the Oppenheimer movie are mixed. Some viewers found the movie compelling, engaging, and simple to understand. They praised the actors\\' performances, particularly Robert Downey, and appreciated the cinematography. These viewers enjoyed the film and expressed interest in seeing more biographical films from Christopher Nolan.\\n\\nHowever, there were also criticisms of the movie. One reviewer felt that the film lacked emotion and failed to capture the relationships and charisma of J. Robert Oppenheimer as portrayed in the book it was based on. They expressed disappointment that the film focused more on the Los Alamos project and testimonies rather than delving into the man himself. Another reviewer mentioned conflicting themes and internal conflicts portrayed in the movie, but still found it fascinating.\\n\\nIn terms of critical reception, Richard Roeper of the Chicago Sun-Times and The A.V. Club\\'s Matthew Jackson praised the film as a \"magnificent\" and \"masterpiece\" respectively. They considered it one of the best films of the 21st century and Christopher Nolan\\'s best work. Empire\\'s Dan Jolin described it as a \"masterfully constructed character study\" with notable performances and cinematography. Peter Suderman of Reason magazine emphasized the film\\'s ability to evoke fear and foreboding about nuclear conflict. Matt Zoller Seitz of RogerEbert.com also gave the film a full four-star rating.\\n\\nOverall, opinions about the Oppenheimer movie range from positive to mixed, with some viewers appreciating its storytelling and others feeling that it lacked certain elements.', additional_kwargs={}, example=False)"
      ]
     },
     "execution_count": 99,
     "metadata": {},
     "output_type": "execute_result"
    }
   ],
   "source": [
    "oppenheimer_multisource_chain.invoke({\"question\" : \"What did people think of the Oppenheimer movie?\"})"
   ]
  },
  {
   "cell_type": "markdown",
   "metadata": {},
   "source": [
    "# Agent Creation\n",
    "\n",
    "Now we can finally start building our Agent!\n",
    "\n",
    "The first thing we'll need to do is provide our Agent a Toolbelt. (list of tools). Much like Batman, our LLM-powered Agent can use these tools as it sees fit. \n",
    "\n",
    "While the examples we're constructing in this notebook are straightforward for brevity and simplicities sake - there is no limit to what you can build with Agents, as we'll see as we progress through the program.\n",
    "\n",
    "So, let's begin by setting up our Tools!\n",
    "\n",
    "You'll notice that we have to set up a function to allow our `OppenheimerInfo` tool to interface with the Agent - this is due to it have a specific required input. Creating custom tools is a pattern that you'll want to grow acustomed to as you use LangChain more and more."
   ]
  },
  {
   "cell_type": "code",
   "execution_count": 110,
   "metadata": {},
   "outputs": [],
   "source": [
    "from langchain.agents import Tool\n",
    "\n",
    "def query_oppenheimer(input):\n",
    "    return oppenheimer_multisource_chain.invoke({\"question\" : input})\n",
    "\n",
    "def query_barbie(input):\n",
    "    return barbie_multisource_chain.invoke({\"question\" : input})\n",
    "\n",
    "tools = [\n",
    "    Tool(\n",
    "        name = \"opp_retriever\",\n",
    "        func=query_oppenheimer,\n",
    "        description=\"Useful for getting information about the Oppenheimer film\"\n",
    "    ),\n",
    "    Tool(\n",
    "        name = \"barbie_retriever\",\n",
    "        func=query_barbie,\n",
    "        description=\"Useful for getting information about the Barbie film\"\n",
    "    ),\n",
    "]"
   ]
  },
  {
   "cell_type": "markdown",
   "metadata": {},
   "source": [
    "Now that we've set up our Agents toolbelt, let's set up the LLM that will be powering it!\n",
    "\n",
    "I would suggest playing around with these prompts - and experiments to find what works best for you.\n",
    "\n",
    "RELEVANT DOCS:\n",
    "- [`ZeroShotAgent`](https://api.python.langchain.com/en/latest/agents/langchain.agents.mrkl.base.ZeroShotAgent.html#langchain-agents-mrkl-base-zeroshotagent)"
   ]
  },
  {
   "cell_type": "code",
   "execution_count": 111,
   "metadata": {},
   "outputs": [],
   "source": [
    "from langchain.agents import ZeroShotAgent, AgentExecutor\n",
    "\n",
    "prefix = \"\"\"Have a conversation with a human, answering the following questions as best you can. You have access to the following tools:\"\"\"\n",
    "suffix = \"\"\"Begin!\"\n",
    "\n",
    "Question: {input}\n",
    "{agent_scratchpad}\"\"\"\n",
    "\n",
    "prompt = ZeroShotAgent.create_prompt(\n",
    "    tools=tools,\n",
    "    prefix=prefix,\n",
    "    suffix=suffix,\n",
    "    input_variables=[\"input\", \"agent_scratchpad\"]\n",
    ")"
   ]
  },
  {
   "cell_type": "code",
   "execution_count": 112,
   "metadata": {},
   "outputs": [],
   "source": [
    "from langchain import LLMChain\n",
    "\n",
    "llm_chain = LLMChain(\n",
    "    llm=llm,\n",
    "    prompt=prompt\n",
    ")"
   ]
  },
  {
   "cell_type": "markdown",
   "metadata": {},
   "source": [
    "All that's left to do now is create our `ZeroShotAgent` and our `AgentExecutor`, which are the \"reasoner\" and \"actor\" halfs of the `ReAct` method of Agent implementation.\n",
    "\n",
    "Read all about the `ReAct` framework [here](https://react-lm.github.io/)"
   ]
  },
  {
   "cell_type": "code",
   "execution_count": 113,
   "metadata": {},
   "outputs": [],
   "source": [
    "barbenheimer_agent = ZeroShotAgent(\n",
    "    llm_chain=llm_chain, \n",
    "    tools=tools, \n",
    "    verbose=True)\n",
    "\n",
    "\n",
    "# why are tools included twice?\n",
    "barbenheimer_agent_chain = AgentExecutor.from_agent_and_tools(\n",
    "    agent=barbenheimer_agent, \n",
    "    tools=tools, \n",
    "    verbose=True)"
   ]
  },
  {
   "cell_type": "markdown",
   "metadata": {},
   "source": [
    "## Conclusion\n",
    "\n",
    "All that is left to do now, is feed inputs to your Agent and watch it work!\n",
    "\n",
    "Remember to use the `{\"input\" : \"YOUR QUERY HERE\"}` format when prompting the Agent."
   ]
  },
  {
   "cell_type": "code",
   "execution_count": 107,
   "metadata": {},
   "outputs": [
    {
     "name": "stdout",
     "output_type": "stream",
     "text": [
      "\n",
      "\n",
      "\u001b[1m> Entering new AgentExecutor chain...\u001b[0m\n",
      "\u001b[32;1m\u001b[1;3mThought: I need to find information about the Barbie movie to answer this question.\n",
      "Action: barbie_retriever\n",
      "Action Input: \"What did people like about the Barbie movie?\"\u001b[0m\n",
      "Observation: \u001b[33;1m\u001b[1;3mcontent='Based on the information from the sources, people liked the following aspects of the Barbie movie:\\n\\n- The movie was considered the best movie based on a toy.\\n- The set design, colors, and camera movements were enjoyed.\\n- The movie had references to the Barbie universe, including the dolls and their impact on society.\\n- Some moments were funny, while others were more serious or dramatic.\\n- The movie addressed societal and business problems.\\n- The movie was considered a great Barbie movie overall.\\n- The movie was praised for its production design and brand extension.\\n- The partnership between the director and performer was applauded.\\n- The movie was described as brilliant, beautiful, and fun.' additional_kwargs={} example=False\u001b[0m\n",
      "Thought:\u001b[32;1m\u001b[1;3mI now know the final answer\n",
      "Final Answer: People liked the Barbie movie for its set design, colors, camera movements, references to the Barbie universe, funny and serious moments, addressing societal and business problems, overall quality as a Barbie movie, production design and brand extension, and the partnership between the director and performer.\u001b[0m\n",
      "\n",
      "\u001b[1m> Finished chain.\u001b[0m\n"
     ]
    },
    {
     "data": {
      "text/plain": [
       "{'input': 'What did people like about the Barbie movie?',\n",
       " 'output': 'People liked the Barbie movie for its set design, colors, camera movements, references to the Barbie universe, funny and serious moments, addressing societal and business problems, overall quality as a Barbie movie, production design and brand extension, and the partnership between the director and performer.'}"
      ]
     },
     "execution_count": 107,
     "metadata": {},
     "output_type": "execute_result"
    }
   ],
   "source": [
    "barbenheimer_agent_chain.invoke({\"input\" : \"What did people like about the Barbie movie?\"})"
   ]
  },
  {
   "cell_type": "code",
   "execution_count": 108,
   "metadata": {},
   "outputs": [
    {
     "name": "stdout",
     "output_type": "stream",
     "text": [
      "\n",
      "\n",
      "\u001b[1m> Entering new AgentExecutor chain...\u001b[0m\n",
      "\u001b[32;1m\u001b[1;3mThought: I need to retrieve information about the Oppenheimer film to answer this question.\n",
      "Action: opp_retriever\n",
      "Action Input: \"What did people like about the Oppenheimer movie?\"\u001b[0m\n",
      "Observation: \u001b[36;1m\u001b[1;3mcontent=\"Based on the public user reviews and the Wikipedia page, people liked the following aspects of the Oppenheimer movie:\\n\\n1. Compelling storytelling: The movie was praised for making the complicated story of Oppenheimer compelling, engaging, and easy to understand.\\n\\n2. Phenomenal acting: The actors, including the main leads and Robert Downey, were praised for their phenomenal performances.\\n\\n3. Beautiful cinematography: The cinematography was described as beautifully crafted, with stunning imagery.\\n\\n4. Interest in history: The movie sparked an interest in history and encouraged viewers to learn more about Oppenheimer and the historical events surrounding him.\\n\\n5. Emotional impact: Some reviewers appreciated the emotional depth and catharsis in Oppenheimer's life, while others found the movie to be a character study that left them with a sense of fear and foreboding about the horrors of nuclear conflict.\\n\\n6. Masterpiece and best film: The movie was described as a masterpiece, one of the best films of the 21st century, and Christopher Nolan's best film so far.\\n\\n7. Warning about nuclear conflict: The movie was seen as a warning about the potential consequences of nuclear weapons and the ethical dilemmas faced by those involved in their development.\\n\\nOverall, people enjoyed the storytelling, acting, cinematography, and the thought-provoking themes explored in the Oppenheimer movie.\" additional_kwargs={} example=False\u001b[0m\n",
      "Thought:\u001b[32;1m\u001b[1;3mI now know the final answer.\n",
      "Final Answer: People liked the compelling storytelling, phenomenal acting, beautiful cinematography, interest in history, emotional impact, masterpiece quality, and the warning about nuclear conflict in the Oppenheimer movie.\u001b[0m\n",
      "\n",
      "\u001b[1m> Finished chain.\u001b[0m\n"
     ]
    },
    {
     "data": {
      "text/plain": [
       "'People liked the compelling storytelling, phenomenal acting, beautiful cinematography, interest in history, emotional impact, masterpiece quality, and the warning about nuclear conflict in the Oppenheimer movie.'"
      ]
     },
     "execution_count": 108,
     "metadata": {},
     "output_type": "execute_result"
    }
   ],
   "source": [
    "barbenheimer_agent_chain.run({\"input\" : \"What did people like about the Oppenheimer movie?\"})"
   ]
  },
  {
   "cell_type": "code",
   "execution_count": 114,
   "metadata": {},
   "outputs": [
    {
     "name": "stdout",
     "output_type": "stream",
     "text": [
      "\n",
      "\n",
      "\u001b[1m> Entering new AgentExecutor chain...\u001b[0m\n",
      "\u001b[32;1m\u001b[1;3mThought: I need to gather information about both movies to determine if they share similar themes or ideas.\n",
      "Action: opp_retriever\n",
      "Action Input: \"Oppenheimer film\"\u001b[0m\n",
      "Observation: \u001b[36;1m\u001b[1;3mcontent='The Oppenheimer film is a 2023 epic biographical thriller written and directed by Christopher Nolan. It is based on the 2005 biography \"American Prometheus\" by Kai Bird and Martin J. Sherwin. The film chronicles the career of American theoretical physicist J. Robert Oppenheimer, with a focus on his studies, his direction of the Manhattan Project during World War II, and his eventual fall from grace due to his 1954 security hearing.\\n\\nThe film stars Cillian Murphy as J. Robert Oppenheimer, Emily Blunt as his wife \"Kitty\", Matt Damon as head of the Manhattan Project Leslie Groves, Robert Downey Jr. as U.S. Atomic Energy Commission member Lewis Strauss, and Florence Pugh as Communist Party USA member Jean Tatlock. The ensemble supporting cast includes Josh Hartnett, Casey Affleck, Rami Malek, and Kenneth Branagh.\\n\\nPublic user reviews of the Oppenheimer film have been overwhelmingly positive. Reviewers have praised the film for its brilliant examination of Oppenheimer\\'s accomplishments and flaws, as well as its layered storytelling and thought-provoking themes. The performances, cinematography, and direction have also been highly praised. Overall, the film has been described as a masterpiece and an awe-inspiring theatrical experience.' additional_kwargs={} example=False\u001b[0m\n",
      "Thought:\u001b[32;1m\u001b[1;3mI have gathered information about the Oppenheimer film. Now I need to gather information about the Barbie film to compare the themes or ideas.\n",
      "Action: barbie_retriever\n",
      "Action Input: \"Barbie film\"\u001b[0m\n",
      "Observation: \u001b[33;1m\u001b[1;3mcontent='The Barbie film is a 2023 American fantasy comedy directed by Greta Gerwig. It is the first live-action Barbie film after several computer-animated films and specials. The film follows Barbie, played by Margot Robbie, and Ken, played by Ryan Gosling, on a journey of self-discovery after experiencing an existential crisis. The film also features an ensemble supporting cast, including America Ferrera, Kate McKinnon, Helen Mirren, Issa Rae, Simu Liu, Michael Cera, Rhea Perlman, and Will Ferrell. The film received mixed reviews, with some praising its visual spectacle and creative physical comedy, while others criticized its attempt to tackle gender stereotypes and its lack of a clear message. Overall, it is considered one of the best movies based on a toy and an enjoyable time at the movies.' additional_kwargs={} example=False\u001b[0m\n",
      "Thought:\u001b[32;1m\u001b[1;3mI have gathered information about both the Oppenheimer film and the Barbie film. Now I can compare their themes or ideas.\n",
      "Final Answer: The Oppenheimer film is a biographical thriller that focuses on the career of J. Robert Oppenheimer and his involvement in the Manhattan Project. It explores themes of scientific discovery, the consequences of technology, and the moral implications of creating weapons of mass destruction. On the other hand, the Barbie film is a fantasy comedy that follows Barbie and Ken on a journey of self-discovery. It tackles themes of identity, self-acceptance, and challenging gender stereotypes. While both films have their own unique themes and ideas, they do not share similar themes or ideas.\u001b[0m\n",
      "\n",
      "\u001b[1m> Finished chain.\u001b[0m\n"
     ]
    },
    {
     "data": {
      "text/plain": [
       "'The Oppenheimer film is a biographical thriller that focuses on the career of J. Robert Oppenheimer and his involvement in the Manhattan Project. It explores themes of scientific discovery, the consequences of technology, and the moral implications of creating weapons of mass destruction. On the other hand, the Barbie film is a fantasy comedy that follows Barbie and Ken on a journey of self-discovery. It tackles themes of identity, self-acceptance, and challenging gender stereotypes. While both films have their own unique themes and ideas, they do not share similar themes or ideas.'"
      ]
     },
     "execution_count": 114,
     "metadata": {},
     "output_type": "execute_result"
    }
   ],
   "source": [
    "barbenheimer_agent_chain.run({\"input\" : \"Did the movies Barbie and Oppenheimer share similar themes or ideas?\"})"
   ]
  },
  {
   "cell_type": "markdown",
   "metadata": {},
   "source": [
    "## Next Steps\n",
    "\n",
    "It's time to build a Chainlit (or Gradio) application and host it on Hugging Face Spaces! :ship:"
   ]
  }
 ],
 "metadata": {
  "kernelspec": {
   "display_name": "barbenheimer-week-1",
   "language": "python",
   "name": "python3"
  },
  "language_info": {
   "codemirror_mode": {
    "name": "ipython",
    "version": 3
   },
   "file_extension": ".py",
   "mimetype": "text/x-python",
   "name": "python",
   "nbconvert_exporter": "python",
   "pygments_lexer": "ipython3",
   "version": "3.11.4"
  },
  "orig_nbformat": 4
 },
 "nbformat": 4,
 "nbformat_minor": 2
}
